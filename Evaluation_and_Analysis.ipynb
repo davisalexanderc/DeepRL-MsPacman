{
 "cells": [
  {
   "cell_type": "markdown",
   "id": "8f54781a",
   "metadata": {},
   "source": [
    "# Evaluation Configuration"
   ]
  },
  {
   "cell_type": "code",
   "execution_count": null,
   "id": "18d5be0f",
   "metadata": {},
   "outputs": [],
   "source": [
    "import os\n",
    "\n",
    "# Select the model step and agent type for evaluation\n",
    "MODEL_STEP_TO_EVALUATE = 2000000\n",
    "AGENT_TYPE = \"dqn\"  # Options: \"dqn\", \"ppo\"\n",
    "\n",
    "# Define paths based on the agent type and model step\n",
    "MODEL_PATH = f\"models/{AGENT_TYPE}_model_{MODEL_STEP_TO_EVALUATE}.pth\"\n",
    "\n",
    "# Configuration file path\n",
    "CONFIG_PATH = f\"configs/{AGENT_TYPE}_config.yaml\"\n",
    "\n",
    "# Number of games to evaluate the model\n",
    "NUM_EVAL_GAMES = 1000"
   ]
  },
  {
   "cell_type": "markdown",
   "id": "487376ca",
   "metadata": {},
   "source": [
    "# Import Libraries"
   ]
  },
  {
   "cell_type": "code",
   "execution_count": null,
   "id": "3a9ed954",
   "metadata": {},
   "outputs": [],
   "source": [
    "from common.utils import load_config\n",
    "from evaluate import evaluate_agent"
   ]
  }
 ],
 "metadata": {
  "kernelspec": {
   "display_name": "mspacman_rl",
   "language": "python",
   "name": "python3"
  },
  "language_info": {
   "name": "python",
   "version": "3.11.13"
  }
 },
 "nbformat": 4,
 "nbformat_minor": 5
}
